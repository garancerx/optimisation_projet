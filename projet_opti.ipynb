{
 "cells": [
  {
   "cell_type": "markdown",
   "metadata": {},
   "source": [
    "\n"
   ]
  },
  {
   "cell_type": "markdown",
   "metadata": {},
   "source": [
    "## Projet optimisation\n",
    "\n",
    "### 1. Optimisation sans contraintes dans le plan\n",
    "\n"
   ]
  },
  {
   "cell_type": "code",
   "execution_count": null,
   "metadata": {},
   "outputs": [],
   "source": []
  },
  {
   "cell_type": "markdown",
   "metadata": {},
   "source": [
    "Question 4"
   ]
  },
  {
   "cell_type": "code",
   "execution_count": 184,
   "metadata": {},
   "outputs": [],
   "source": [
    "def orientation(P,Q,R):\n",
    "    \"\"\"\n",
    "    1 si sens direct ie det matrice (PQ,PR) strictement positif\n",
    "    -1 si sens direct ie det matrice strictement neg\n",
    "    0 si sens direct ie det matrice nul\n",
    "    \"\"\"\n",
    "    PQ = np.array([[P[0]-Q[0]],[P[1]-Q[1]]])\n",
    "    PR = np.array([[P[0]-R[0]],[P[1]-R[1]]])\n",
    "    M = np.concatenate((PQ,PR),axis=1)    \n",
    "    det = np.linalg.det(M)\n",
    "    if(det>0):\n",
    "        return 1\n",
    "    if(det<0):\n",
    "        return -1\n",
    "    return 0"
   ]
  },
  {
   "cell_type": "code",
   "execution_count": 185,
   "metadata": {},
   "outputs": [],
   "source": [
    "#http://math.univ-lyon1.fr/irem/Formation_ISN/formation_recursivite/capes/capes2017Pb2.pdf\n",
    "def jarvis(E) :\n",
    "    \"\"\"\n",
    "     Fonction qui re¸coit en argument un nuage de points et qui renvoie\n",
    "     une liste contenant les indices des sommets de l’enveloppe\n",
    "     convexe de ce nuage\n",
    "    \"\"\"\n",
    "    out = [] #c'est l'enveloppe convexe\n",
    "    #pour chaque point\n",
    "    for i in range(len(E)):\n",
    "        for j in range(i+1,len(E)): #on compare chaque point à ceux d'apres\n",
    "            sommets_a_tester = []\n",
    "            \n",
    "            for k in range(len(E)):\n",
    "                if k!=i and k!=j : #on a pas le choix, on doit tout comparer entres eux\n",
    "                    sommets_a_tester.append(orientation(E[i],E[j],E[k]))\n",
    "            q = sommets_a_tester[0]\n",
    "            sommet = True\n",
    "            for v in sommets_a_tester :\n",
    "                if(v!=q):\n",
    "                    #print(\"sommets : \",sommets_a_tester,\" v = \",v,\" q = \",q)\n",
    "                    sommet = False\n",
    "            if sommet & (i not in out): #not in out pour pas le rajouter\n",
    "                out.append(i)\n",
    "            if sommet & (j not in out):\n",
    "                out.append(j)\n",
    "    return out"
   ]
  },
  {
   "cell_type": "code",
   "execution_count": null,
   "metadata": {},
   "outputs": [],
   "source": []
  },
  {
   "cell_type": "code",
   "execution_count": 174,
   "metadata": {},
   "outputs": [],
   "source": []
  },
  {
   "cell_type": "markdown",
   "metadata": {},
   "source": [
    "Question 5"
   ]
  },
  {
   "cell_type": "code",
   "execution_count": null,
   "metadata": {},
   "outputs": [],
   "source": [
    "E = np.array([[1,2],[4,5],[8,9],[-6,8],[2,0],[2,7],[3,4],[5,-3],[-2,4],[0,1],[1,5]])\n",
    "plt.plot(E[:,0],E[:,1],\".\")\n",
    "jarvis(E)\n",
    "plt.plot(E[jarvis(E),0],E[jarvis(E),1],'.r')\n",
    "#Enveloppe = jarvis(E)\n",
    "#plt.plot([E[i][0] for i in Enveloppe] ,[E[i][1] for i in Enveloppe],\".\")"
   ]
  },
  {
   "cell_type": "markdown",
   "metadata": {},
   "source": [
    "On va choisir le point $\\mathcal{A}=(1,5)$"
   ]
  },
  {
   "cell_type": "markdown",
   "metadata": {},
   "source": [
    "Question 6\n",
    "\n",
    "Impl´ementer les algorithmes de gradients `a pas fixe, optimal et la g´en´eralisation du gradient\n",
    "conjugu´e. Indiquer, en justifiant votre choix, quelle approche vous semble la plus performante\n",
    "(en fonction de la pr´ecision, du temps de calcul, de la stabilit´e...)\n"
   ]
  },
  {
   "cell_type": "code",
   "execution_count": null,
   "metadata": {},
   "outputs": [],
   "source": [
    "#xk+1 = xk − ρ∇~ J(xk).\n",
    "def pasFixe(J,rho):\n",
    "    \n",
    "    \n",
    "    \n",
    "#def rosenbrock(x):\n",
    "    #y = np.asarray(x)\n",
    "    #return np.sum((y[0] - 1)**2 + 100 * (y[1] - y[0]**2)**2)\n",
    "\n",
    "#def rosenbrock_grad(x):\n",
    "    #y = np.asarray(x)\n",
    "    #grad = np.zeros_like(y)\n",
    "    #grad[0] = 400 * y[0] * (y[0]**2 - y[1]) + 2 * (y[0] - 1)\n",
    "    #grad[1] = 200 * (y[1] - y[0]**2)\n",
    "    #return grad"
   ]
  }
 ],
 "metadata": {
  "kernelspec": {
   "display_name": "Python 3",
   "language": "python",
   "name": "python3"
  },
  "language_info": {
   "codemirror_mode": {
    "name": "ipython",
    "version": 3
   },
   "file_extension": ".py",
   "mimetype": "text/x-python",
   "name": "python",
   "nbconvert_exporter": "python",
   "pygments_lexer": "ipython3",
   "version": "3.6.9"
  }
 },
 "nbformat": 4,
 "nbformat_minor": 2
}
